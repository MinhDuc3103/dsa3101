{
 "cells": [
  {
   "cell_type": "markdown",
   "id": "1f62c124",
   "metadata": {},
   "source": [
    "# Convert mathematical expressions to LaTex\n",
    "\n",
    "- Guidelines to LaTex can be found here: \n",
    "[latex-eg](https://jeltef.github.io/PyLaTeX/current/examples/full.html)\n",
    "and \n",
    "[latex-guidelines](https://www.overleaf.com/learn/latex/Mathematical_expressions).\n",
    "- Aim: Convert string 'a^2 + b = 2' to '$a^2 + b = 2$'"
   ]
  },
  {
   "cell_type": "markdown",
   "id": "a087bb15",
   "metadata": {},
   "source": [
    "### Assumptions\n",
    "\n",
    "- Input given to function is of type list (list of lists)\n",
    "- Order of elements in list specific to equation.\n",
    "\n",
    "#### Mathematical Expressions\n",
    "\n",
    "These are possible math expressions used. We need to standardize how we write them so it can be readable by the function.\n",
    "\n",
    "- $x^n + \\sqrt{y^{n+1}} = z^n$ \n",
    "\n",
    "- $ \\sum_{i=1}^{\\infty} \\frac{1}{n^s} $\n",
    "\n",
    "- $\\prod_p \\frac{1}{1 - p^{-s}} $"
   ]
  },
  {
   "cell_type": "code",
   "execution_count": 72,
   "id": "deef02de",
   "metadata": {},
   "outputs": [],
   "source": [
    "def lst2string(lst):\n",
    "    front = \"\\documentclass{article} \\\\begin{document} \\n\\n \\[\"\n",
    "    end = \"\\] \\n\\n \\end{document}\"\n",
    "    a = \"\"\n",
    "    for i in lst:\n",
    "        a += i\n",
    "    return front + '\\n' + a + '\\n' + end"
   ]
  },
  {
   "cell_type": "code",
   "execution_count": 14,
   "id": "3d139201",
   "metadata": {},
   "outputs": [],
   "source": [
    "# simple eg\n",
    "alst = ['a', '+', 'b', '=', 'c']\n",
    "a = lst2string(alst)\n",
    "# print(a)"
   ]
  },
  {
   "cell_type": "code",
   "execution_count": 82,
   "id": "7f6201fd",
   "metadata": {},
   "outputs": [
    {
     "name": "stdout",
     "output_type": "stream",
     "text": [
      "\\documentclass{article} \\begin{document} \n",
      "\n",
      " \\[\n",
      "\\prod_p\\frac{1}{1-p^{- s}}\n",
      "\\] \n",
      "\n",
      " \\end{document}\n"
     ]
    }
   ],
   "source": [
    "# complex eg\n",
    "blst = ['\\prod','_p','\\\\frac','{','1','}','{','1','-','p','^','{','- ','s','}','}']\n",
    "b = lst2string(blst)\n",
    "print(b)"
   ]
  },
  {
   "cell_type": "code",
   "execution_count": 83,
   "id": "a5d6fb3d",
   "metadata": {},
   "outputs": [],
   "source": [
    "import subprocess\n",
    "import os"
   ]
  },
  {
   "cell_type": "code",
   "execution_count": 52,
   "id": "0840b617",
   "metadata": {},
   "outputs": [],
   "source": [
    "test = r'''\\documentclass{article}\n",
    "\\begin{document}\n",
    "\n",
    "\\[\n",
    "\ta^{p-1} \\equiv 1 \\pmod{x}.\n",
    "\\]\n",
    "\n",
    "\\end{document}\n",
    "'''"
   ]
  },
  {
   "cell_type": "code",
   "execution_count": 84,
   "id": "60cd5cb2",
   "metadata": {},
   "outputs": [
    {
     "name": "stdout",
     "output_type": "stream",
     "text": [
      "This is pdfTeX, Version 3.141592653-2.6-1.40.23 (TeX Live 2022/dev) (preloaded format=pdflatex)\n",
      " restricted \\write18 enabled.\n",
      "entering extended mode\n",
      "(./simple.tex\n",
      "LaTeX2e <2021-11-15> patch level 1\n",
      "L3 programming layer <2022-01-21> (/Users/cheongkyler/Library/TinyTeX/texmf-dist/tex/latex/base/article.cls\n",
      "Document Class: article 2021/10/04 v1.4n Standard LaTeX document class\n",
      "(/Users/cheongkyler/Library/TinyTeX/texmf-dist/tex/latex/base/size10.clo)) (/Users/cheongkyler/Library/TinyTeX/texmf-dist/tex/latex/l3backend/l3backend-pdftex.def)\n",
      "No file simple.aux.\n",
      "[1{/Users/cheongkyler/Library/TinyTeX/texmf-var/fonts/map/pdftex/updmap/pdftex.map}] (./simple.aux) )</Users/cheongkyler/Library/TinyTeX/texmf-dist/fonts/type1/public/amsfonts/cm/cmex10.pfb></Users/cheongkyler/Library/TinyTeX/texmf-dist/fonts/type1/public/amsfonts/cm/cmmi10.pfb></Users/cheongkyler/Library/TinyTeX/texmf-dist/fonts/type1/public/amsfonts/cm/cmmi7.pfb></Users/cheongkyler/Library/TinyTeX/texmf-dist/fonts/type1/public/amsfonts/cm/cmr10.pfb></Users/cheongkyler/Library/TinyTeX/texmf-dist/fonts/type1/public/amsfonts/cm/cmsy10.pfb></Users/cheongkyler/Library/TinyTeX/texmf-dist/fonts/type1/public/amsfonts/cm/cmsy7.pfb>\n",
      "Output written on simple.pdf (1 page, 49222 bytes).\n",
      "Transcript written on simple.log.\n"
     ]
    }
   ],
   "source": [
    "with open('simple.tex','w') as f:\n",
    "    f.write(b)\n",
    "\n",
    "#cmd = ['pdflatex', '-interaction', 'nonstopmode', 'cover.tex']\n",
    "cmd = ['pdflatex', 'simple.tex']\n",
    "subprocess.run(cmd)\n",
    "\n",
    "os.unlink('simple.tex')\n",
    "os.unlink('simple.log')\n",
    "os.unlink('simple.aux')"
   ]
  }
 ],
 "metadata": {
  "kernelspec": {
   "display_name": "Python 3 (ipykernel)",
   "language": "python",
   "name": "python3"
  },
  "language_info": {
   "codemirror_mode": {
    "name": "ipython",
    "version": 3
   },
   "file_extension": ".py",
   "mimetype": "text/x-python",
   "name": "python",
   "nbconvert_exporter": "python",
   "pygments_lexer": "ipython3",
   "version": "3.9.12"
  }
 },
 "nbformat": 4,
 "nbformat_minor": 5
}
